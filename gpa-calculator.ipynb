{
 "cells": [
  {
   "cell_type": "code",
   "execution_count": 94,
   "metadata": {
    "scrolled": true
   },
   "outputs": [],
   "source": [
    "import json"
   ]
  },
  {
   "cell_type": "markdown",
   "metadata": {},
   "source": [
    "## Reading the json file"
   ]
  },
  {
   "cell_type": "code",
   "execution_count": 95,
   "metadata": {
    "scrolled": true
   },
   "outputs": [],
   "source": [
    "#read with safe mode\n",
    "with open(\"grades.json\") as f:\n",
    "    data = json.load(f)"
   ]
  },
  {
   "cell_type": "code",
   "execution_count": 97,
   "metadata": {
    "scrolled": false
   },
   "outputs": [
    {
     "name": "stdout",
     "output_type": "stream",
     "text": [
      "[\n",
      "    {\n",
      "        \"name\": \"Mansi Saxena\",\n",
      "        \"regno\": \"18BCE0307\",\n",
      "        \"semester\": \"Fall 2020-21\",\n",
      "        \"courses\": {\n",
      "            \"CSE3001\": {\n",
      "                \"name\": \"Software Engineering\",\n",
      "                \"credit\": 4,\n",
      "                \"type\": \"PC\",\n",
      "                \"finalmark\": 75,\n",
      "                \"grade\": \"B\"\n",
      "            },\n",
      "            \"CSE3002\": {\n",
      "                \"name\": \"Internet and Web Programming\",\n",
      "                \"credit\": 4,\n",
      "                \"type\": \"PC\",\n",
      "                \"finalmark\": 80,\n",
      "                \"grade\": \"A\"\n",
      "            },\n",
      "            \"CSE3009\": {\n",
      "                \"name\": \"Internet of Things\",\n",
      "                \"credit\": 4,\n",
      "                \"type\": \"PE\",\n",
      "                \"finalmark\": 87,\n",
      "                \"grade\": \"A\"\n",
      "            },\n",
      "            \"CSE3502\": {\n",
      "                \"name\": \"Information Security Analysis and Audit\",\n",
      "                \"credit\": 4,\n",
      "                \"type\": \"PE\",\n",
      "                \"finalmark\": 91,\n",
      "                \"grade\": \"A\"\n",
      "            },\n",
      "            \"CSE4001\": {\n",
      "                \"name\": \"Parallel and Distributed Computing\",\n",
      "                \"credit\": 4,\n",
      "                \"type\": \"PC\",\n",
      "                \"finalmark\": 86,\n",
      "                \"grade\": \"B\"\n",
      "            },\n",
      "            \"CSE4022\": {\n",
      "                \"name\": \"Natural Language Processing\",\n",
      "                \"credit\": 4,\n",
      "                \"type\": \"PE\",\n",
      "                \"finalmark\": 93,\n",
      "                \"grade\": \"S\"\n",
      "            },\n",
      "            \"STS3201\": {\n",
      "                \"name\": \"Programming Skills for Employment\",\n",
      "                \"credit\": 1,\n",
      "                \"type\": \"UC\",\n",
      "                \"finalmark\": 92,\n",
      "                \"grade\": \"S\"\n",
      "            }\n",
      "        },\n",
      "        \"gpa\": null\n",
      "    }\n",
      "]\n"
     ]
    }
   ],
   "source": [
    "print(json.dumps(data, indent=4))"
   ]
  },
  {
   "cell_type": "code",
   "execution_count": 98,
   "metadata": {
    "scrolled": true
   },
   "outputs": [
    {
     "data": {
      "text/plain": [
       "7"
      ]
     },
     "execution_count": 98,
     "metadata": {},
     "output_type": "execute_result"
    }
   ],
   "source": [
    "len(data[0][\"courses\"])"
   ]
  },
  {
   "cell_type": "markdown",
   "metadata": {},
   "source": [
    "## Getting the grade and credits of each course from the json file"
   ]
  },
  {
   "cell_type": "code",
   "execution_count": 99,
   "metadata": {
    "scrolled": true
   },
   "outputs": [
    {
     "name": "stdout",
     "output_type": "stream",
     "text": [
      "B 4\n",
      "A 4\n",
      "A 4\n",
      "A 4\n",
      "B 4\n",
      "S 4\n",
      "S 1\n"
     ]
    }
   ],
   "source": [
    "courses = data[0][\"courses\"]\n",
    "for code, course in courses.items():\n",
    "    print(course[\"grade\"], course[\"credit\"])"
   ]
  },
  {
   "cell_type": "code",
   "execution_count": 100,
   "metadata": {
    "scrolled": true
   },
   "outputs": [],
   "source": [
    "# getting grade of each course\n",
    "def get_grade(data):\n",
    "    grades = []\n",
    "    courses = data[0][\"courses\"]\n",
    "    for code, course in courses.items():\n",
    "        grade = course[\"grade\"]\n",
    "        credit = course[\"credit\"]\n",
    "        pair = (grade, credit)\n",
    "        grades.append(pair)\n",
    "    return grades"
   ]
  },
  {
   "cell_type": "code",
   "execution_count": 101,
   "metadata": {},
   "outputs": [],
   "source": [
    "grades = get_grade(data)"
   ]
  },
  {
   "cell_type": "code",
   "execution_count": 102,
   "metadata": {
    "scrolled": true
   },
   "outputs": [
    {
     "data": {
      "text/plain": [
       "[('B', 4), ('A', 4), ('A', 4), ('A', 4), ('B', 4), ('S', 4), ('S', 1)]"
      ]
     },
     "execution_count": 102,
     "metadata": {},
     "output_type": "execute_result"
    }
   ],
   "source": [
    "grades"
   ]
  },
  {
   "cell_type": "markdown",
   "metadata": {},
   "source": [
    "## Retrieving the point for each subject grade and calculating gpa"
   ]
  },
  {
   "cell_type": "code",
   "execution_count": 103,
   "metadata": {},
   "outputs": [],
   "source": [
    "# retrieving corresponding point"
   ]
  },
  {
   "cell_type": "code",
   "execution_count": 104,
   "metadata": {},
   "outputs": [],
   "source": [
    "points = {\n",
    "    \"S\" : 10,\n",
    "    \"A\" : 9,\n",
    "    \"B\" : 8,\n",
    "    \"C\" : 7,\n",
    "    \"D\" : 6,\n",
    "    \"E\" : 5,\n",
    "    \"F\" : 0\n",
    "}"
   ]
  },
  {
   "cell_type": "code",
   "execution_count": 105,
   "metadata": {},
   "outputs": [],
   "source": [
    "def get_gpa(grades):\n",
    "    total_points = 0\n",
    "    total_creds = 0\n",
    "    for grade, credit in grades:\n",
    "        point = points[grade]\n",
    "        total_points += point*credit\n",
    "        total_creds += credit\n",
    "    gpa = total_points/total_creds\n",
    "    return gpa"
   ]
  },
  {
   "cell_type": "code",
   "execution_count": 106,
   "metadata": {},
   "outputs": [],
   "source": [
    "gpa = get_gpa(grades)"
   ]
  },
  {
   "cell_type": "code",
   "execution_count": 89,
   "metadata": {
    "scrolled": false
   },
   "outputs": [
    {
     "name": "stdout",
     "output_type": "stream",
     "text": [
      "8.88\n"
     ]
    }
   ],
   "source": [
    "print(gpa)"
   ]
  },
  {
   "cell_type": "markdown",
   "metadata": {},
   "source": [
    "## Updating the value of gpa in the json file and writing the content to a new file gpa.json"
   ]
  },
  {
   "cell_type": "code",
   "execution_count": 112,
   "metadata": {
    "scrolled": true
   },
   "outputs": [
    {
     "name": "stdout",
     "output_type": "stream",
     "text": [
      "None\n",
      "8.88\n"
     ]
    }
   ],
   "source": [
    "print(data[0][\"gpa\"])\n",
    "data[0][\"gpa\"] = gpa\n",
    "print(data[0][\"gpa\"])"
   ]
  },
  {
   "cell_type": "code",
   "execution_count": 114,
   "metadata": {},
   "outputs": [],
   "source": [
    "# writing the gpa to another json file\n",
    "with open(\"gpa.json\", \"w\") as f:\n",
    "    json.dump(data, f)"
   ]
  }
 ],
 "metadata": {
  "kernelspec": {
   "display_name": "Python 3",
   "language": "python",
   "name": "python3"
  },
  "language_info": {
   "codemirror_mode": {
    "name": "ipython",
    "version": 3
   },
   "file_extension": ".py",
   "mimetype": "text/x-python",
   "name": "python",
   "nbconvert_exporter": "python",
   "pygments_lexer": "ipython3",
   "version": "3.8.3"
  }
 },
 "nbformat": 4,
 "nbformat_minor": 4
}
